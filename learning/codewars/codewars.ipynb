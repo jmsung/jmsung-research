{
 "cells": [
  {
   "cell_type": "markdown",
   "metadata": {},
   "source": [
    "# Longest alphabetical substring\n",
    "\n",
    "Find the longest substring in alphabetical order.\n",
    "Example: the longest alphabetical substring in \"asdfaaaabbbbcttavvfffffdf\" is \"aaaabbbbctt\".\n",
    "There are tests with strings up to 10 000 characters long so your code will need to be efficient.\n",
    "The input will only consist of lowercase characters and will be at least one letter long.\n",
    "If there are multiple solutions, return the one that appears first."
   ]
  },
  {
   "cell_type": "code",
   "execution_count": 15,
   "metadata": {},
   "outputs": [],
   "source": [
    "def longest(string):\n",
    "    if len(string)<=1:\n",
    "        return string\n",
    "\n",
    "    answer = ''\n",
    "    substring = string[0]\n",
    "    for alphabet in string[1:]:\n",
    "        if not ord(alphabet) < ord(substring[-1]):\n",
    "            substring += alphabet\n",
    "        else:\n",
    "            if len(substring) > len(answer):\n",
    "                answer = substring\n",
    "            substring = alphabet\n",
    "            \n",
    "    # check the last substring\n",
    "    if len(substring) > len(answer):\n",
    "        answer = substring\n",
    "    \n",
    "    return answer\n",
    "\n",
    "assert longest('asd') == 'as'\n",
    "assert longest('nab') == 'ab'\n",
    "assert longest('abcdeapbcdef') == 'abcde'\n",
    "assert longest('asdfaaaabbbbcttavvfffffdf') == 'aaaabbbbctt'\n",
    "assert longest('asdfbyfgiklag') == 'fgikl'\n",
    "assert longest('z') == 'z'\n",
    "assert longest('zyba') == 'z'"
   ]
  },
  {
   "cell_type": "code",
   "execution_count": null,
   "metadata": {},
   "outputs": [],
   "source": []
  },
  {
   "cell_type": "code",
   "execution_count": null,
   "metadata": {},
   "outputs": [],
   "source": []
  },
  {
   "cell_type": "code",
   "execution_count": null,
   "metadata": {},
   "outputs": [],
   "source": []
  },
  {
   "cell_type": "code",
   "execution_count": null,
   "metadata": {},
   "outputs": [],
   "source": []
  },
  {
   "cell_type": "code",
   "execution_count": null,
   "metadata": {},
   "outputs": [],
   "source": []
  }
 ],
 "metadata": {
  "kernelspec": {
   "display_name": "Python 3",
   "language": "python",
   "name": "python3"
  },
  "language_info": {
   "codemirror_mode": {
    "name": "ipython",
    "version": 3
   },
   "file_extension": ".py",
   "mimetype": "text/x-python",
   "name": "python",
   "nbconvert_exporter": "python",
   "pygments_lexer": "ipython3",
   "version": "3.8.2"
  }
 },
 "nbformat": 4,
 "nbformat_minor": 4
}
