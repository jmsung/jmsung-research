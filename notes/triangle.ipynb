{
 "cells": [
  {
   "cell_type": "code",
   "execution_count": 26,
   "metadata": {},
   "outputs": [],
   "source": [
    "def tr(n):\n",
    "    if n == 1:\n",
    "        return 1\n",
    "    else:\n",
    "        return tr(n-1)+n\n",
    "\n",
    "def sum_tr(n):\n",
    "    if n == 1:\n",
    "        return 1\n",
    "    else:\n",
    "        return sum_tr(n-1)+tr(n)"
   ]
  },
  {
   "cell_type": "code",
   "execution_count": 27,
   "metadata": {},
   "outputs": [
    {
     "name": "stdout",
     "output_type": "stream",
     "text": [
      "tr(1) = 1\n",
      "tr(2) = 3\n",
      "tr(3) = 6\n",
      "tr(4) = 10\n",
      "tr(5) = 15\n",
      "tr(6) = 21\n",
      "tr(7) = 28\n",
      "tr(8) = 36\n",
      "tr(9) = 45\n"
     ]
    }
   ],
   "source": [
    "for i in range(1,10):\n",
    "    print(\"tr({}) =\".format(i), tr(i))"
   ]
  },
  {
   "cell_type": "code",
   "execution_count": 33,
   "metadata": {},
   "outputs": [
    {
     "name": "stdout",
     "output_type": "stream",
     "text": [
      "sum_tr(1) = 1\n",
      "sum_tr(2) = 4\n",
      "sum_tr(3) = 10\n",
      "sum_tr(4) = 20\n",
      "sum_tr(5) = 35\n",
      "sum_tr(6) = 56\n",
      "sum_tr(7) = 84\n",
      "sum_tr(8) = 120\n",
      "sum_tr(9) = 165\n"
     ]
    }
   ],
   "source": [
    "for i in range(1,10):\n",
    "    print(\"sum_tr({}) =\".format(i), sum_tr(i))"
   ]
  },
  {
   "cell_type": "code",
   "execution_count": 32,
   "metadata": {},
   "outputs": [
    {
     "data": {
      "text/plain": [
       "35"
      ]
     },
     "execution_count": 32,
     "metadata": {},
     "output_type": "execute_result"
    }
   ],
   "source": [
    "sum_tr(5)"
   ]
  },
  {
   "cell_type": "code",
   "execution_count": null,
   "metadata": {},
   "outputs": [],
   "source": []
  },
  {
   "cell_type": "code",
   "execution_count": null,
   "metadata": {},
   "outputs": [],
   "source": []
  },
  {
   "cell_type": "code",
   "execution_count": null,
   "metadata": {},
   "outputs": [],
   "source": []
  },
  {
   "cell_type": "code",
   "execution_count": null,
   "metadata": {},
   "outputs": [],
   "source": []
  }
 ],
 "metadata": {
  "kernelspec": {
   "display_name": "Python 3",
   "language": "python",
   "name": "python3"
  },
  "language_info": {
   "codemirror_mode": {
    "name": "ipython",
    "version": 3
   },
   "file_extension": ".py",
   "mimetype": "text/x-python",
   "name": "python",
   "nbconvert_exporter": "python",
   "pygments_lexer": "ipython3",
   "version": "3.8.2"
  }
 },
 "nbformat": 4,
 "nbformat_minor": 4
}
