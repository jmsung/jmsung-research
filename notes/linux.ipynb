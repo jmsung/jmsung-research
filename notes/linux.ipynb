{
 "cells": [
  {
   "cell_type": "markdown",
   "metadata": {},
   "source": [
    "# Linux commands\n",
    "\n",
    "# References\n",
    "\n",
    "[Linux Bash Programming Cookbook](Linux-BASH-Programming-Cookbook.pdf)\n",
    "\n",
    "https://tldp.org/HOWTO/Bash-Prog-Intro-HOWTO.html\n",
    "\n",
    "\n",
    "\n"
   ]
  },
  {
   "cell_type": "markdown",
   "metadata": {},
   "source": [
    "# Processes\n",
    "\n",
    "### ps  \n",
    "\n",
    "* list all the processes   \n",
    "`$ ps as` \n",
    "\n",
    "\n",
    "* list all python process.  \n",
    "`$ ps ax | grep python` \n",
    "\n",
    "\n",
    "### htop\n",
    "`$ htop --sort-key PERCENT_CPU`    \n",
    "\n"
   ]
  },
  {
   "cell_type": "markdown",
   "metadata": {},
   "source": [
    "# Directory and files\n",
    "\n",
    "* count the number of files  \n",
    "`$ ls | wc -l`\n",
    "\n",
    "\n",
    "* count the lines in a file  \n",
    "`$ cat filename | wc -l`\n",
    "\n",
    "\n",
    "* size of directory:  \n",
    "`$ du -sh /var/* (s: total size, h: human-readable)`  \n",
    "\n",
    "\n",
    "* find files from 15 minutes ago until now:  \n",
    "`$ find . -type f -mmin -15`\n",
    "\n",
    "\n",
    "* find files between two timestamps:  \n",
    "`$ find . -type f -newermt \"2014-10-08 10:17:00\" ! -newermt \"2014-10-08 10:53:00\"`  \n",
    "\n",
    "\n",
    "* find directory:  \n",
    "`$ find /dir/path -type d -name \"dir-name-here\"`\n",
    "\n",
    "\n",
    "* show differences between two directories (including their sub-directories)  \n",
    "`$ diff -qr directory-1/ directory-2/` \n",
    "\n",
    "\n",
    "* Save message  \n",
    "`$ cmd 2> err.txt`   \n",
    "`$ cmd > output.txt`  \n",
    "\n"
   ]
  },
  {
   "cell_type": "markdown",
   "metadata": {},
   "source": [
    "# Network\n",
    "\n",
    "### ping\n",
    "`ping ip`\n",
    "\n",
    "### nmap\n",
    "`nmap -open 10.159.234.227`: show the ports\n"
   ]
  },
  {
   "cell_type": "markdown",
   "metadata": {},
   "source": [
    "# File transfer\n",
    "\n",
    "### woof\n",
    "* Install woof   \n",
    "`$ sudo apt install woof`\n",
    "\n",
    "* this zips the dir simdata  and puts it on the url http://10.159.234.227:8080   \n",
    "`$ woof -z simdata`\n",
    "\n",
    "* Send the link to download\n"
   ]
  },
  {
   "cell_type": "code",
   "execution_count": null,
   "metadata": {},
   "outputs": [],
   "source": []
  }
 ],
 "metadata": {
  "kernelspec": {
   "display_name": "Python 3",
   "language": "python",
   "name": "python3"
  },
  "language_info": {
   "codemirror_mode": {
    "name": "ipython",
    "version": 3
   },
   "file_extension": ".py",
   "mimetype": "text/x-python",
   "name": "python",
   "nbconvert_exporter": "python",
   "pygments_lexer": "ipython3",
   "version": "3.8.2"
  }
 },
 "nbformat": 4,
 "nbformat_minor": 4
}
